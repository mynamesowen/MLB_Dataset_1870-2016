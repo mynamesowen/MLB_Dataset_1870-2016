{
 "cells": [
  {
   "cell_type": "markdown",
   "id": "022223bf",
   "metadata": {},
   "source": [
    "# Calculated Win Percentage VS Actual Win Percentage"
   ]
  },
  {
   "cell_type": "markdown",
   "id": "9897926a",
   "metadata": {},
   "source": [
    "Data obtain from: https://www.kaggle.com/datasets/timschutzyang/dataset1?resource=download"
   ]
  },
  {
   "cell_type": "markdown",
   "id": "9f76033a",
   "metadata": {},
   "source": [
    "**Goal:** The goal of this project is to identify the Error in Winning Percentage in each year using the Pythagorean Theorem of baseball. $$ (Runs Scored)^2  /  (Runs Scored)^2 + (Runs Allowed)^2 $$"
   ]
  },
  {
   "cell_type": "markdown",
   "id": "43313b3a",
   "metadata": {},
   "source": [
    "A more accurate version of the formula uses an exponent of 1.81 rather than 2. Our dataset we will be importing uses the more accurate formula."
   ]
  },
  {
   "cell_type": "markdown",
   "id": "cc16e510",
   "metadata": {},
   "source": [
    "## Import and clean my data"
   ]
  },
  {
   "cell_type": "markdown",
   "id": "1a360bb0",
   "metadata": {},
   "source": [
    "The first thing I want to do is import my data and get it ready to be used. I import my library, bring in my CSV file, and test to make sure it is gathered properly."
   ]
  },
  {
   "cell_type": "code",
   "execution_count": 1,
   "id": "4784a61c",
   "metadata": {},
   "outputs": [],
   "source": [
    "# import libraries\n",
    "import pandas as pd\n",
    "import numpy as np"
   ]
  },
  {
   "cell_type": "code",
   "execution_count": 2,
   "id": "d7e395e9",
   "metadata": {
    "scrolled": true
   },
   "outputs": [
    {
     "data": {
      "text/html": [
       "<div>\n",
       "<style scoped>\n",
       "    .dataframe tbody tr th:only-of-type {\n",
       "        vertical-align: middle;\n",
       "    }\n",
       "\n",
       "    .dataframe tbody tr th {\n",
       "        vertical-align: top;\n",
       "    }\n",
       "\n",
       "    .dataframe thead th {\n",
       "        text-align: right;\n",
       "    }\n",
       "</style>\n",
       "<table border=\"1\" class=\"dataframe\">\n",
       "  <thead>\n",
       "    <tr style=\"text-align: right;\">\n",
       "      <th></th>\n",
       "      <th>Unnamed: 0</th>\n",
       "      <th>Rk</th>\n",
       "      <th>Year</th>\n",
       "      <th>Tm</th>\n",
       "      <th>Lg</th>\n",
       "      <th>G</th>\n",
       "      <th>W</th>\n",
       "      <th>L</th>\n",
       "      <th>Ties</th>\n",
       "      <th>W.L.</th>\n",
       "      <th>...</th>\n",
       "      <th>R</th>\n",
       "      <th>RA</th>\n",
       "      <th>Attendance</th>\n",
       "      <th>BatAge</th>\n",
       "      <th>PAge</th>\n",
       "      <th>X.Bat</th>\n",
       "      <th>X.P</th>\n",
       "      <th>Top.Player</th>\n",
       "      <th>Managers</th>\n",
       "      <th>current</th>\n",
       "    </tr>\n",
       "  </thead>\n",
       "  <tbody>\n",
       "    <tr>\n",
       "      <th>0</th>\n",
       "      <td>1</td>\n",
       "      <td>1</td>\n",
       "      <td>2016</td>\n",
       "      <td>Arizona Diamondbacks</td>\n",
       "      <td>NL West</td>\n",
       "      <td>162</td>\n",
       "      <td>69</td>\n",
       "      <td>93</td>\n",
       "      <td>0</td>\n",
       "      <td>0.426</td>\n",
       "      <td>...</td>\n",
       "      <td>752</td>\n",
       "      <td>890</td>\n",
       "      <td>2,036,216</td>\n",
       "      <td>26.7</td>\n",
       "      <td>26.4</td>\n",
       "      <td>50</td>\n",
       "      <td>29</td>\n",
       "      <td>J.Segura (5.7)</td>\n",
       "      <td>C.Hale (69-93)</td>\n",
       "      <td>Arizona Diamondbacks</td>\n",
       "    </tr>\n",
       "    <tr>\n",
       "      <th>1</th>\n",
       "      <td>2</td>\n",
       "      <td>2</td>\n",
       "      <td>2015</td>\n",
       "      <td>Arizona Diamondbacks</td>\n",
       "      <td>NL West</td>\n",
       "      <td>162</td>\n",
       "      <td>79</td>\n",
       "      <td>83</td>\n",
       "      <td>0</td>\n",
       "      <td>0.488</td>\n",
       "      <td>...</td>\n",
       "      <td>720</td>\n",
       "      <td>713</td>\n",
       "      <td>2,080,145</td>\n",
       "      <td>26.6</td>\n",
       "      <td>27.1</td>\n",
       "      <td>50</td>\n",
       "      <td>27</td>\n",
       "      <td>P.Goldschmidt (8.8)</td>\n",
       "      <td>C.Hale (79-83)</td>\n",
       "      <td>Arizona Diamondbacks</td>\n",
       "    </tr>\n",
       "    <tr>\n",
       "      <th>2</th>\n",
       "      <td>3</td>\n",
       "      <td>3</td>\n",
       "      <td>2014</td>\n",
       "      <td>Arizona Diamondbacks</td>\n",
       "      <td>NL West</td>\n",
       "      <td>162</td>\n",
       "      <td>64</td>\n",
       "      <td>98</td>\n",
       "      <td>0</td>\n",
       "      <td>0.395</td>\n",
       "      <td>...</td>\n",
       "      <td>615</td>\n",
       "      <td>742</td>\n",
       "      <td>2,073,730</td>\n",
       "      <td>27.6</td>\n",
       "      <td>28.0</td>\n",
       "      <td>52</td>\n",
       "      <td>25</td>\n",
       "      <td>P.Goldschmidt (4.5)</td>\n",
       "      <td>K.Gibson (63-96) and A.Trammell (1-2)</td>\n",
       "      <td>Arizona Diamondbacks</td>\n",
       "    </tr>\n",
       "    <tr>\n",
       "      <th>3</th>\n",
       "      <td>4</td>\n",
       "      <td>4</td>\n",
       "      <td>2013</td>\n",
       "      <td>Arizona Diamondbacks</td>\n",
       "      <td>NL West</td>\n",
       "      <td>162</td>\n",
       "      <td>81</td>\n",
       "      <td>81</td>\n",
       "      <td>0</td>\n",
       "      <td>0.500</td>\n",
       "      <td>...</td>\n",
       "      <td>685</td>\n",
       "      <td>695</td>\n",
       "      <td>2,134,895</td>\n",
       "      <td>28.1</td>\n",
       "      <td>27.6</td>\n",
       "      <td>44</td>\n",
       "      <td>23</td>\n",
       "      <td>P.Goldschmidt (7.1)</td>\n",
       "      <td>K.Gibson (81-81)</td>\n",
       "      <td>Arizona Diamondbacks</td>\n",
       "    </tr>\n",
       "    <tr>\n",
       "      <th>4</th>\n",
       "      <td>5</td>\n",
       "      <td>5</td>\n",
       "      <td>2012</td>\n",
       "      <td>Arizona Diamondbacks</td>\n",
       "      <td>NL West</td>\n",
       "      <td>162</td>\n",
       "      <td>81</td>\n",
       "      <td>81</td>\n",
       "      <td>0</td>\n",
       "      <td>0.500</td>\n",
       "      <td>...</td>\n",
       "      <td>734</td>\n",
       "      <td>688</td>\n",
       "      <td>2,177,617</td>\n",
       "      <td>28.3</td>\n",
       "      <td>27.4</td>\n",
       "      <td>48</td>\n",
       "      <td>23</td>\n",
       "      <td>A.Hill (5.0)</td>\n",
       "      <td>K.Gibson (81-81)</td>\n",
       "      <td>Arizona Diamondbacks</td>\n",
       "    </tr>\n",
       "  </tbody>\n",
       "</table>\n",
       "<p>5 rows × 24 columns</p>\n",
       "</div>"
      ],
      "text/plain": [
       "   Unnamed: 0  Rk  Year                    Tm       Lg    G   W   L  Ties  \\\n",
       "0           1   1  2016  Arizona Diamondbacks  NL West  162  69  93     0   \n",
       "1           2   2  2015  Arizona Diamondbacks  NL West  162  79  83     0   \n",
       "2           3   3  2014  Arizona Diamondbacks  NL West  162  64  98     0   \n",
       "3           4   4  2013  Arizona Diamondbacks  NL West  162  81  81     0   \n",
       "4           5   5  2012  Arizona Diamondbacks  NL West  162  81  81     0   \n",
       "\n",
       "    W.L.  ...    R   RA Attendance BatAge  PAge  X.Bat X.P  \\\n",
       "0  0.426  ...  752  890  2,036,216   26.7  26.4     50  29   \n",
       "1  0.488  ...  720  713  2,080,145   26.6  27.1     50  27   \n",
       "2  0.395  ...  615  742  2,073,730   27.6  28.0     52  25   \n",
       "3  0.500  ...  685  695  2,134,895   28.1  27.6     44  23   \n",
       "4  0.500  ...  734  688  2,177,617   28.3  27.4     48  23   \n",
       "\n",
       "            Top.Player                               Managers  \\\n",
       "0       J.Segura (5.7)                         C.Hale (69-93)   \n",
       "1  P.Goldschmidt (8.8)                         C.Hale (79-83)   \n",
       "2  P.Goldschmidt (4.5)  K.Gibson (63-96) and A.Trammell (1-2)   \n",
       "3  P.Goldschmidt (7.1)                       K.Gibson (81-81)   \n",
       "4         A.Hill (5.0)                       K.Gibson (81-81)   \n",
       "\n",
       "                current  \n",
       "0  Arizona Diamondbacks  \n",
       "1  Arizona Diamondbacks  \n",
       "2  Arizona Diamondbacks  \n",
       "3  Arizona Diamondbacks  \n",
       "4  Arizona Diamondbacks  \n",
       "\n",
       "[5 rows x 24 columns]"
      ]
     },
     "execution_count": 2,
     "metadata": {},
     "output_type": "execute_result"
    }
   ],
   "source": [
    "# import csv\n",
    "df = pd.read_csv('baseballdata.csv')\n",
    "\n",
    "# check data frame\n",
    "df.head()"
   ]
  },
  {
   "cell_type": "markdown",
   "id": "9b0b8033",
   "metadata": {},
   "source": [
    "With my data imported I can drop the columns I don't need. In this case I am only interested in the following rows: `Year`, `Tm`, `W`, `L`, `W.L.`, `pythW.L.`, `R`, `RA`."
   ]
  },
  {
   "cell_type": "code",
   "execution_count": 3,
   "id": "d18b1d45",
   "metadata": {},
   "outputs": [
    {
     "data": {
      "text/plain": [
       "Index(['Unnamed: 0', 'Rk', 'Year', 'Tm', 'Lg', 'G', 'W', 'L', 'Ties', 'W.L.',\n",
       "       'pythW.L.', 'Finish', 'GB', 'Playoffs', 'R', 'RA', 'Attendance',\n",
       "       'BatAge', 'PAge', 'X.Bat', 'X.P', 'Top.Player', 'Managers', 'current'],\n",
       "      dtype='object')"
      ]
     },
     "execution_count": 3,
     "metadata": {},
     "output_type": "execute_result"
    }
   ],
   "source": [
    "# get the name of each column\n",
    "df.columns"
   ]
  },
  {
   "cell_type": "code",
   "execution_count": 4,
   "id": "503e79f3",
   "metadata": {},
   "outputs": [],
   "source": [
    "# create a new dataframe with only the columns that I need\n",
    "newdf = df[['Tm', 'W', 'L', 'W.L.', 'pythW.L.', 'R', 'RA']]\n",
    "\n",
    "#newdf.head()"
   ]
  },
  {
   "cell_type": "code",
   "execution_count": 6,
   "id": "cb379fa5",
   "metadata": {},
   "outputs": [
    {
     "data": {
      "text/html": [
       "<div>\n",
       "<style scoped>\n",
       "    .dataframe tbody tr th:only-of-type {\n",
       "        vertical-align: middle;\n",
       "    }\n",
       "\n",
       "    .dataframe tbody tr th {\n",
       "        vertical-align: top;\n",
       "    }\n",
       "\n",
       "    .dataframe thead th {\n",
       "        text-align: right;\n",
       "    }\n",
       "</style>\n",
       "<table border=\"1\" class=\"dataframe\">\n",
       "  <thead>\n",
       "    <tr style=\"text-align: right;\">\n",
       "      <th></th>\n",
       "      <th>Team</th>\n",
       "      <th>Wins</th>\n",
       "      <th>Losses</th>\n",
       "      <th>ActualWinPct</th>\n",
       "      <th>PythWinPct</th>\n",
       "      <th>Runs</th>\n",
       "      <th>RunsAllowed</th>\n",
       "    </tr>\n",
       "  </thead>\n",
       "  <tbody>\n",
       "    <tr>\n",
       "      <th>0</th>\n",
       "      <td>Arizona Diamondbacks</td>\n",
       "      <td>69</td>\n",
       "      <td>93</td>\n",
       "      <td>0.426</td>\n",
       "      <td>0.424</td>\n",
       "      <td>752</td>\n",
       "      <td>890</td>\n",
       "    </tr>\n",
       "    <tr>\n",
       "      <th>1</th>\n",
       "      <td>Arizona Diamondbacks</td>\n",
       "      <td>79</td>\n",
       "      <td>83</td>\n",
       "      <td>0.488</td>\n",
       "      <td>0.504</td>\n",
       "      <td>720</td>\n",
       "      <td>713</td>\n",
       "    </tr>\n",
       "    <tr>\n",
       "      <th>2</th>\n",
       "      <td>Arizona Diamondbacks</td>\n",
       "      <td>64</td>\n",
       "      <td>98</td>\n",
       "      <td>0.395</td>\n",
       "      <td>0.415</td>\n",
       "      <td>615</td>\n",
       "      <td>742</td>\n",
       "    </tr>\n",
       "    <tr>\n",
       "      <th>3</th>\n",
       "      <td>Arizona Diamondbacks</td>\n",
       "      <td>81</td>\n",
       "      <td>81</td>\n",
       "      <td>0.500</td>\n",
       "      <td>0.493</td>\n",
       "      <td>685</td>\n",
       "      <td>695</td>\n",
       "    </tr>\n",
       "    <tr>\n",
       "      <th>4</th>\n",
       "      <td>Arizona Diamondbacks</td>\n",
       "      <td>81</td>\n",
       "      <td>81</td>\n",
       "      <td>0.500</td>\n",
       "      <td>0.530</td>\n",
       "      <td>734</td>\n",
       "      <td>688</td>\n",
       "    </tr>\n",
       "  </tbody>\n",
       "</table>\n",
       "</div>"
      ],
      "text/plain": [
       "                   Team  Wins  Losses  ActualWinPct  PythWinPct  Runs  \\\n",
       "0  Arizona Diamondbacks    69      93         0.426       0.424   752   \n",
       "1  Arizona Diamondbacks    79      83         0.488       0.504   720   \n",
       "2  Arizona Diamondbacks    64      98         0.395       0.415   615   \n",
       "3  Arizona Diamondbacks    81      81         0.500       0.493   685   \n",
       "4  Arizona Diamondbacks    81      81         0.500       0.530   734   \n",
       "\n",
       "   RunsAllowed  \n",
       "0          890  \n",
       "1          713  \n",
       "2          742  \n",
       "3          695  \n",
       "4          688  "
      ]
     },
     "execution_count": 6,
     "metadata": {},
     "output_type": "execute_result"
    }
   ],
   "source": [
    "# rename columns to preference\n",
    "new_names = {'Tm': 'Team', 'W': 'Wins', 'L': 'Losses', 'W.L.': 'ActualWinPct',\n",
    "             'pythW.L.': 'PythWinPct', 'R': 'Runs', 'RA': 'RunsAllowed'}\n",
    "\n",
    "newdf = newdf.rename(columns=new_names)\n",
    "\n",
    "newdf.head()"
   ]
  },
  {
   "cell_type": "code",
   "execution_count": 7,
   "id": "1ee0c608",
   "metadata": {},
   "outputs": [
    {
     "data": {
      "text/plain": [
       "Team             object\n",
       "Wins              int64\n",
       "Losses            int64\n",
       "ActualWinPct    float64\n",
       "PythWinPct      float64\n",
       "Runs              int64\n",
       "RunsAllowed       int64\n",
       "dtype: object"
      ]
     },
     "execution_count": 7,
     "metadata": {},
     "output_type": "execute_result"
    }
   ],
   "source": [
    "#check the data types of my columns\n",
    "newdf.dtypes"
   ]
  },
  {
   "cell_type": "code",
   "execution_count": 9,
   "id": "7ff1d20c",
   "metadata": {},
   "outputs": [
    {
     "data": {
      "text/html": [
       "<div>\n",
       "<style scoped>\n",
       "    .dataframe tbody tr th:only-of-type {\n",
       "        vertical-align: middle;\n",
       "    }\n",
       "\n",
       "    .dataframe tbody tr th {\n",
       "        vertical-align: top;\n",
       "    }\n",
       "\n",
       "    .dataframe thead th {\n",
       "        text-align: right;\n",
       "    }\n",
       "</style>\n",
       "<table border=\"1\" class=\"dataframe\">\n",
       "  <thead>\n",
       "    <tr style=\"text-align: right;\">\n",
       "      <th></th>\n",
       "      <th>Team</th>\n",
       "      <th>Wins</th>\n",
       "      <th>Losses</th>\n",
       "      <th>ActualWinPct</th>\n",
       "      <th>PythWinPct</th>\n",
       "      <th>Runs</th>\n",
       "      <th>RunsAllowed</th>\n",
       "      <th>WinPctError</th>\n",
       "    </tr>\n",
       "  </thead>\n",
       "  <tbody>\n",
       "    <tr>\n",
       "      <th>0</th>\n",
       "      <td>Arizona Diamondbacks</td>\n",
       "      <td>69</td>\n",
       "      <td>93</td>\n",
       "      <td>0.426</td>\n",
       "      <td>0.424</td>\n",
       "      <td>752</td>\n",
       "      <td>890</td>\n",
       "      <td>0.002</td>\n",
       "    </tr>\n",
       "    <tr>\n",
       "      <th>1</th>\n",
       "      <td>Arizona Diamondbacks</td>\n",
       "      <td>79</td>\n",
       "      <td>83</td>\n",
       "      <td>0.488</td>\n",
       "      <td>0.504</td>\n",
       "      <td>720</td>\n",
       "      <td>713</td>\n",
       "      <td>-0.016</td>\n",
       "    </tr>\n",
       "    <tr>\n",
       "      <th>2</th>\n",
       "      <td>Arizona Diamondbacks</td>\n",
       "      <td>64</td>\n",
       "      <td>98</td>\n",
       "      <td>0.395</td>\n",
       "      <td>0.415</td>\n",
       "      <td>615</td>\n",
       "      <td>742</td>\n",
       "      <td>-0.020</td>\n",
       "    </tr>\n",
       "    <tr>\n",
       "      <th>3</th>\n",
       "      <td>Arizona Diamondbacks</td>\n",
       "      <td>81</td>\n",
       "      <td>81</td>\n",
       "      <td>0.500</td>\n",
       "      <td>0.493</td>\n",
       "      <td>685</td>\n",
       "      <td>695</td>\n",
       "      <td>0.007</td>\n",
       "    </tr>\n",
       "    <tr>\n",
       "      <th>4</th>\n",
       "      <td>Arizona Diamondbacks</td>\n",
       "      <td>81</td>\n",
       "      <td>81</td>\n",
       "      <td>0.500</td>\n",
       "      <td>0.530</td>\n",
       "      <td>734</td>\n",
       "      <td>688</td>\n",
       "      <td>-0.030</td>\n",
       "    </tr>\n",
       "  </tbody>\n",
       "</table>\n",
       "</div>"
      ],
      "text/plain": [
       "                   Team  Wins  Losses  ActualWinPct  PythWinPct  Runs  \\\n",
       "0  Arizona Diamondbacks    69      93         0.426       0.424   752   \n",
       "1  Arizona Diamondbacks    79      83         0.488       0.504   720   \n",
       "2  Arizona Diamondbacks    64      98         0.395       0.415   615   \n",
       "3  Arizona Diamondbacks    81      81         0.500       0.493   685   \n",
       "4  Arizona Diamondbacks    81      81         0.500       0.530   734   \n",
       "\n",
       "   RunsAllowed  WinPctError  \n",
       "0          890        0.002  \n",
       "1          713       -0.016  \n",
       "2          742       -0.020  \n",
       "3          695        0.007  \n",
       "4          688       -0.030  "
      ]
     },
     "execution_count": 9,
     "metadata": {},
     "output_type": "execute_result"
    }
   ],
   "source": [
    "# create a new column showing the error in winning percentages\n",
    "newdf['WinPctError'] = newdf.ActualWinPct - newdf.PythWinPct\n",
    "\n",
    "newdf.head()"
   ]
  },
  {
   "cell_type": "code",
   "execution_count": 13,
   "id": "2857bdc5",
   "metadata": {},
   "outputs": [
    {
     "data": {
      "text/plain": [
       "count    2594.000000\n",
       "mean       -0.000069\n",
       "std         0.026391\n",
       "min        -0.090000\n",
       "25%        -0.018000\n",
       "50%         0.000000\n",
       "75%         0.018000\n",
       "max         0.091000\n",
       "Name: WinPctError, dtype: float64"
      ]
     },
     "execution_count": 13,
     "metadata": {},
     "output_type": "execute_result"
    }
   ],
   "source": [
    "# get a breakdown of the column results\n",
    "newdf.WinPctError.describe()"
   ]
  },
  {
   "cell_type": "markdown",
   "id": "dbb2a2f7",
   "metadata": {},
   "source": [
    "I am interested to know the average that the calculation was off by. The reason we can't just take the `mean` of `WinPctError` is because having both positive and negative values will cause the values to cancel out, not give us the average. For example, if the error was off by 3% for one year and -3% for another year the mean would result in 0. But this is not an accurate calculation. It would be true to say that the average error between those two numbers is still 3%."
   ]
  },
  {
   "cell_type": "code",
   "execution_count": 15,
   "id": "b3b80dc3",
   "metadata": {},
   "outputs": [
    {
     "data": {
      "text/html": [
       "<div>\n",
       "<style scoped>\n",
       "    .dataframe tbody tr th:only-of-type {\n",
       "        vertical-align: middle;\n",
       "    }\n",
       "\n",
       "    .dataframe tbody tr th {\n",
       "        vertical-align: top;\n",
       "    }\n",
       "\n",
       "    .dataframe thead th {\n",
       "        text-align: right;\n",
       "    }\n",
       "</style>\n",
       "<table border=\"1\" class=\"dataframe\">\n",
       "  <thead>\n",
       "    <tr style=\"text-align: right;\">\n",
       "      <th></th>\n",
       "      <th>Team</th>\n",
       "      <th>Wins</th>\n",
       "      <th>Losses</th>\n",
       "      <th>ActualWinPct</th>\n",
       "      <th>PythWinPct</th>\n",
       "      <th>Runs</th>\n",
       "      <th>RunsAllowed</th>\n",
       "      <th>WinPctError</th>\n",
       "      <th>ErrorAbs</th>\n",
       "    </tr>\n",
       "  </thead>\n",
       "  <tbody>\n",
       "    <tr>\n",
       "      <th>0</th>\n",
       "      <td>Arizona Diamondbacks</td>\n",
       "      <td>69</td>\n",
       "      <td>93</td>\n",
       "      <td>0.426</td>\n",
       "      <td>0.424</td>\n",
       "      <td>752</td>\n",
       "      <td>890</td>\n",
       "      <td>0.002</td>\n",
       "      <td>0.002</td>\n",
       "    </tr>\n",
       "    <tr>\n",
       "      <th>1</th>\n",
       "      <td>Arizona Diamondbacks</td>\n",
       "      <td>79</td>\n",
       "      <td>83</td>\n",
       "      <td>0.488</td>\n",
       "      <td>0.504</td>\n",
       "      <td>720</td>\n",
       "      <td>713</td>\n",
       "      <td>-0.016</td>\n",
       "      <td>0.016</td>\n",
       "    </tr>\n",
       "    <tr>\n",
       "      <th>2</th>\n",
       "      <td>Arizona Diamondbacks</td>\n",
       "      <td>64</td>\n",
       "      <td>98</td>\n",
       "      <td>0.395</td>\n",
       "      <td>0.415</td>\n",
       "      <td>615</td>\n",
       "      <td>742</td>\n",
       "      <td>-0.020</td>\n",
       "      <td>0.020</td>\n",
       "    </tr>\n",
       "    <tr>\n",
       "      <th>3</th>\n",
       "      <td>Arizona Diamondbacks</td>\n",
       "      <td>81</td>\n",
       "      <td>81</td>\n",
       "      <td>0.500</td>\n",
       "      <td>0.493</td>\n",
       "      <td>685</td>\n",
       "      <td>695</td>\n",
       "      <td>0.007</td>\n",
       "      <td>0.007</td>\n",
       "    </tr>\n",
       "    <tr>\n",
       "      <th>4</th>\n",
       "      <td>Arizona Diamondbacks</td>\n",
       "      <td>81</td>\n",
       "      <td>81</td>\n",
       "      <td>0.500</td>\n",
       "      <td>0.530</td>\n",
       "      <td>734</td>\n",
       "      <td>688</td>\n",
       "      <td>-0.030</td>\n",
       "      <td>0.030</td>\n",
       "    </tr>\n",
       "  </tbody>\n",
       "</table>\n",
       "</div>"
      ],
      "text/plain": [
       "                   Team  Wins  Losses  ActualWinPct  PythWinPct  Runs  \\\n",
       "0  Arizona Diamondbacks    69      93         0.426       0.424   752   \n",
       "1  Arizona Diamondbacks    79      83         0.488       0.504   720   \n",
       "2  Arizona Diamondbacks    64      98         0.395       0.415   615   \n",
       "3  Arizona Diamondbacks    81      81         0.500       0.493   685   \n",
       "4  Arizona Diamondbacks    81      81         0.500       0.530   734   \n",
       "\n",
       "   RunsAllowed  WinPctError  ErrorAbs  \n",
       "0          890        0.002     0.002  \n",
       "1          713       -0.016     0.016  \n",
       "2          742       -0.020     0.020  \n",
       "3          695        0.007     0.007  \n",
       "4          688       -0.030     0.030  "
      ]
     },
     "execution_count": 15,
     "metadata": {},
     "output_type": "execute_result"
    }
   ],
   "source": [
    "# create new column for the absolute value of the WinPctError\n",
    "newdf['ErrorAbs'] = abs(newdf.WinPctError)\n",
    "\n",
    "newdf.head()"
   ]
  },
  {
   "cell_type": "markdown",
   "id": "66cb52ac",
   "metadata": {},
   "source": [
    "Now that I have a column for the absolute value of the `WinPctError` we can find the `mean`."
   ]
  },
  {
   "cell_type": "code",
   "execution_count": 17,
   "id": "3d2f0c9e",
   "metadata": {},
   "outputs": [
    {
     "data": {
      "text/plain": [
       "0.02108172706245201"
      ]
     },
     "execution_count": 17,
     "metadata": {},
     "output_type": "execute_result"
    }
   ],
   "source": [
    "# find the mean of the error\n",
    "newdf.ErrorAbs.mean()"
   ]
  },
  {
   "cell_type": "markdown",
   "id": "f0157a57",
   "metadata": {},
   "source": [
    "With a result above we can conclude that the Pythagorean Therom of baseball had average error of 2%"
   ]
  }
 ],
 "metadata": {
  "kernelspec": {
   "display_name": "Python 3 (ipykernel)",
   "language": "python",
   "name": "python3"
  },
  "language_info": {
   "codemirror_mode": {
    "name": "ipython",
    "version": 3
   },
   "file_extension": ".py",
   "mimetype": "text/x-python",
   "name": "python",
   "nbconvert_exporter": "python",
   "pygments_lexer": "ipython3",
   "version": "3.9.12"
  }
 },
 "nbformat": 4,
 "nbformat_minor": 5
}
