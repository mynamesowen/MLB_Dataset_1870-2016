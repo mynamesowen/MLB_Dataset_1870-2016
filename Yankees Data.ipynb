{
 "cells": [
  {
   "cell_type": "markdown",
   "id": "022223bf",
   "metadata": {},
   "source": [
    "# New York Yankees Data 1913-2016"
   ]
  },
  {
   "cell_type": "markdown",
   "id": "9897926a",
   "metadata": {},
   "source": [
    "Data obtain from: https://www.kaggle.com/datasets/timschutzyang/dataset1?resource=download"
   ]
  },
  {
   "cell_type": "markdown",
   "id": "9f76033a",
   "metadata": {},
   "source": [
    "**Goal:** The goal of this project is to identify trends within the tracked New York Yankees statistics from the dataset provided."
   ]
  },
  {
   "cell_type": "markdown",
   "id": "cc16e510",
   "metadata": {},
   "source": [
    "## Setting up my data"
   ]
  },
  {
   "cell_type": "markdown",
   "id": "1a360bb0",
   "metadata": {},
   "source": [
    "The first thing I want to do is import my data and get it ready to be used. I import my library, bring in my CSV file, and test to make sure it is gathered properly."
   ]
  },
  {
   "cell_type": "code",
   "execution_count": 1,
   "id": "4784a61c",
   "metadata": {},
   "outputs": [],
   "source": [
    "# import libraries\n",
    "import pandas as pd\n",
    "import numpy as np"
   ]
  },
  {
   "cell_type": "code",
   "execution_count": 2,
   "id": "d7e395e9",
   "metadata": {},
   "outputs": [
    {
     "data": {
      "text/html": [
       "<div>\n",
       "<style scoped>\n",
       "    .dataframe tbody tr th:only-of-type {\n",
       "        vertical-align: middle;\n",
       "    }\n",
       "\n",
       "    .dataframe tbody tr th {\n",
       "        vertical-align: top;\n",
       "    }\n",
       "\n",
       "    .dataframe thead th {\n",
       "        text-align: right;\n",
       "    }\n",
       "</style>\n",
       "<table border=\"1\" class=\"dataframe\">\n",
       "  <thead>\n",
       "    <tr style=\"text-align: right;\">\n",
       "      <th></th>\n",
       "      <th>Unnamed: 0</th>\n",
       "      <th>Rk</th>\n",
       "      <th>Year</th>\n",
       "      <th>Tm</th>\n",
       "      <th>Lg</th>\n",
       "      <th>G</th>\n",
       "      <th>W</th>\n",
       "      <th>L</th>\n",
       "      <th>Ties</th>\n",
       "      <th>W.L.</th>\n",
       "      <th>...</th>\n",
       "      <th>R</th>\n",
       "      <th>RA</th>\n",
       "      <th>Attendance</th>\n",
       "      <th>BatAge</th>\n",
       "      <th>PAge</th>\n",
       "      <th>X.Bat</th>\n",
       "      <th>X.P</th>\n",
       "      <th>Top.Player</th>\n",
       "      <th>Managers</th>\n",
       "      <th>current</th>\n",
       "    </tr>\n",
       "  </thead>\n",
       "  <tbody>\n",
       "    <tr>\n",
       "      <th>0</th>\n",
       "      <td>1</td>\n",
       "      <td>1</td>\n",
       "      <td>2016</td>\n",
       "      <td>Arizona Diamondbacks</td>\n",
       "      <td>NL West</td>\n",
       "      <td>162</td>\n",
       "      <td>69</td>\n",
       "      <td>93</td>\n",
       "      <td>0</td>\n",
       "      <td>0.426</td>\n",
       "      <td>...</td>\n",
       "      <td>752</td>\n",
       "      <td>890</td>\n",
       "      <td>2,036,216</td>\n",
       "      <td>26.7</td>\n",
       "      <td>26.4</td>\n",
       "      <td>50</td>\n",
       "      <td>29</td>\n",
       "      <td>J.Segura (5.7)</td>\n",
       "      <td>C.Hale (69-93)</td>\n",
       "      <td>Arizona Diamondbacks</td>\n",
       "    </tr>\n",
       "    <tr>\n",
       "      <th>1</th>\n",
       "      <td>2</td>\n",
       "      <td>2</td>\n",
       "      <td>2015</td>\n",
       "      <td>Arizona Diamondbacks</td>\n",
       "      <td>NL West</td>\n",
       "      <td>162</td>\n",
       "      <td>79</td>\n",
       "      <td>83</td>\n",
       "      <td>0</td>\n",
       "      <td>0.488</td>\n",
       "      <td>...</td>\n",
       "      <td>720</td>\n",
       "      <td>713</td>\n",
       "      <td>2,080,145</td>\n",
       "      <td>26.6</td>\n",
       "      <td>27.1</td>\n",
       "      <td>50</td>\n",
       "      <td>27</td>\n",
       "      <td>P.Goldschmidt (8.8)</td>\n",
       "      <td>C.Hale (79-83)</td>\n",
       "      <td>Arizona Diamondbacks</td>\n",
       "    </tr>\n",
       "    <tr>\n",
       "      <th>2</th>\n",
       "      <td>3</td>\n",
       "      <td>3</td>\n",
       "      <td>2014</td>\n",
       "      <td>Arizona Diamondbacks</td>\n",
       "      <td>NL West</td>\n",
       "      <td>162</td>\n",
       "      <td>64</td>\n",
       "      <td>98</td>\n",
       "      <td>0</td>\n",
       "      <td>0.395</td>\n",
       "      <td>...</td>\n",
       "      <td>615</td>\n",
       "      <td>742</td>\n",
       "      <td>2,073,730</td>\n",
       "      <td>27.6</td>\n",
       "      <td>28.0</td>\n",
       "      <td>52</td>\n",
       "      <td>25</td>\n",
       "      <td>P.Goldschmidt (4.5)</td>\n",
       "      <td>K.Gibson (63-96) and A.Trammell (1-2)</td>\n",
       "      <td>Arizona Diamondbacks</td>\n",
       "    </tr>\n",
       "    <tr>\n",
       "      <th>3</th>\n",
       "      <td>4</td>\n",
       "      <td>4</td>\n",
       "      <td>2013</td>\n",
       "      <td>Arizona Diamondbacks</td>\n",
       "      <td>NL West</td>\n",
       "      <td>162</td>\n",
       "      <td>81</td>\n",
       "      <td>81</td>\n",
       "      <td>0</td>\n",
       "      <td>0.500</td>\n",
       "      <td>...</td>\n",
       "      <td>685</td>\n",
       "      <td>695</td>\n",
       "      <td>2,134,895</td>\n",
       "      <td>28.1</td>\n",
       "      <td>27.6</td>\n",
       "      <td>44</td>\n",
       "      <td>23</td>\n",
       "      <td>P.Goldschmidt (7.1)</td>\n",
       "      <td>K.Gibson (81-81)</td>\n",
       "      <td>Arizona Diamondbacks</td>\n",
       "    </tr>\n",
       "    <tr>\n",
       "      <th>4</th>\n",
       "      <td>5</td>\n",
       "      <td>5</td>\n",
       "      <td>2012</td>\n",
       "      <td>Arizona Diamondbacks</td>\n",
       "      <td>NL West</td>\n",
       "      <td>162</td>\n",
       "      <td>81</td>\n",
       "      <td>81</td>\n",
       "      <td>0</td>\n",
       "      <td>0.500</td>\n",
       "      <td>...</td>\n",
       "      <td>734</td>\n",
       "      <td>688</td>\n",
       "      <td>2,177,617</td>\n",
       "      <td>28.3</td>\n",
       "      <td>27.4</td>\n",
       "      <td>48</td>\n",
       "      <td>23</td>\n",
       "      <td>A.Hill (5.0)</td>\n",
       "      <td>K.Gibson (81-81)</td>\n",
       "      <td>Arizona Diamondbacks</td>\n",
       "    </tr>\n",
       "  </tbody>\n",
       "</table>\n",
       "<p>5 rows × 24 columns</p>\n",
       "</div>"
      ],
      "text/plain": [
       "   Unnamed: 0  Rk  Year                    Tm       Lg    G   W   L  Ties  \\\n",
       "0           1   1  2016  Arizona Diamondbacks  NL West  162  69  93     0   \n",
       "1           2   2  2015  Arizona Diamondbacks  NL West  162  79  83     0   \n",
       "2           3   3  2014  Arizona Diamondbacks  NL West  162  64  98     0   \n",
       "3           4   4  2013  Arizona Diamondbacks  NL West  162  81  81     0   \n",
       "4           5   5  2012  Arizona Diamondbacks  NL West  162  81  81     0   \n",
       "\n",
       "    W.L.  ...    R   RA Attendance BatAge  PAge  X.Bat X.P  \\\n",
       "0  0.426  ...  752  890  2,036,216   26.7  26.4     50  29   \n",
       "1  0.488  ...  720  713  2,080,145   26.6  27.1     50  27   \n",
       "2  0.395  ...  615  742  2,073,730   27.6  28.0     52  25   \n",
       "3  0.500  ...  685  695  2,134,895   28.1  27.6     44  23   \n",
       "4  0.500  ...  734  688  2,177,617   28.3  27.4     48  23   \n",
       "\n",
       "            Top.Player                               Managers  \\\n",
       "0       J.Segura (5.7)                         C.Hale (69-93)   \n",
       "1  P.Goldschmidt (8.8)                         C.Hale (79-83)   \n",
       "2  P.Goldschmidt (4.5)  K.Gibson (63-96) and A.Trammell (1-2)   \n",
       "3  P.Goldschmidt (7.1)                       K.Gibson (81-81)   \n",
       "4         A.Hill (5.0)                       K.Gibson (81-81)   \n",
       "\n",
       "                current  \n",
       "0  Arizona Diamondbacks  \n",
       "1  Arizona Diamondbacks  \n",
       "2  Arizona Diamondbacks  \n",
       "3  Arizona Diamondbacks  \n",
       "4  Arizona Diamondbacks  \n",
       "\n",
       "[5 rows x 24 columns]"
      ]
     },
     "execution_count": 2,
     "metadata": {},
     "output_type": "execute_result"
    }
   ],
   "source": [
    "# import csv\n",
    "df = pd.read_csv('baseballdata.csv')\n",
    "\n",
    "# check data frame\n",
    "df.head()"
   ]
  },
  {
   "cell_type": "code",
   "execution_count": 3,
   "id": "e95dccf7",
   "metadata": {},
   "outputs": [
    {
     "data": {
      "text/plain": [
       "pandas.core.frame.DataFrame"
      ]
     },
     "execution_count": 3,
     "metadata": {},
     "output_type": "execute_result"
    }
   ],
   "source": [
    "# verify type\n",
    "type(df)"
   ]
  },
  {
   "cell_type": "markdown",
   "id": "9b0b8033",
   "metadata": {},
   "source": [
    "Now that I know my data is correctly saved into a data frame I want to learn more about the data I will be working with. I don't care about the size of the entire data frame since I only want to work with data for the New York Yankees. Here is what I want to know:\n",
    "\n",
    "- The names of each column\n",
    "- The data types of each column"
   ]
  },
  {
   "cell_type": "code",
   "execution_count": 4,
   "id": "d18b1d45",
   "metadata": {},
   "outputs": [
    {
     "data": {
      "text/plain": [
       "Index(['Unnamed: 0', 'Rk', 'Year', 'Tm', 'Lg', 'G', 'W', 'L', 'Ties', 'W.L.',\n",
       "       'pythW.L.', 'Finish', 'GB', 'Playoffs', 'R', 'RA', 'Attendance',\n",
       "       'BatAge', 'PAge', 'X.Bat', 'X.P', 'Top.Player', 'Managers', 'current'],\n",
       "      dtype='object')"
      ]
     },
     "execution_count": 4,
     "metadata": {},
     "output_type": "execute_result"
    }
   ],
   "source": [
    "# get the name of each column\n",
    "df.columns"
   ]
  },
  {
   "cell_type": "code",
   "execution_count": 5,
   "id": "503e79f3",
   "metadata": {},
   "outputs": [
    {
     "data": {
      "text/plain": [
       "Unnamed: 0      int64\n",
       "Rk              int64\n",
       "Year            int64\n",
       "Tm             object\n",
       "Lg             object\n",
       "G               int64\n",
       "W               int64\n",
       "L               int64\n",
       "Ties            int64\n",
       "W.L.          float64\n",
       "pythW.L.      float64\n",
       "Finish         object\n",
       "GB             object\n",
       "Playoffs       object\n",
       "R               int64\n",
       "RA              int64\n",
       "Attendance     object\n",
       "BatAge        float64\n",
       "PAge          float64\n",
       "X.Bat           int64\n",
       "X.P             int64\n",
       "Top.Player     object\n",
       "Managers       object\n",
       "current        object\n",
       "dtype: object"
      ]
     },
     "execution_count": 5,
     "metadata": {},
     "output_type": "execute_result"
    }
   ],
   "source": [
    "# get data types of each column\n",
    "df.dtypes"
   ]
  },
  {
   "cell_type": "markdown",
   "id": "d5f5f882",
   "metadata": {},
   "source": [
    "## Cleaning the data"
   ]
  },
  {
   "cell_type": "markdown",
   "id": "a8918878",
   "metadata": {},
   "source": [
    "After familiarizing myself with the data there is a few changes that should be made before I continue. The `Unnamed: 0`, `Rk`, `pythW.L.`, and `Current` column are not going to be needed so I can remove those from the frame."
   ]
  },
  {
   "cell_type": "code",
   "execution_count": 6,
   "id": "4bf39400",
   "metadata": {
    "scrolled": true
   },
   "outputs": [
    {
     "data": {
      "text/html": [
       "<div>\n",
       "<style scoped>\n",
       "    .dataframe tbody tr th:only-of-type {\n",
       "        vertical-align: middle;\n",
       "    }\n",
       "\n",
       "    .dataframe tbody tr th {\n",
       "        vertical-align: top;\n",
       "    }\n",
       "\n",
       "    .dataframe thead th {\n",
       "        text-align: right;\n",
       "    }\n",
       "</style>\n",
       "<table border=\"1\" class=\"dataframe\">\n",
       "  <thead>\n",
       "    <tr style=\"text-align: right;\">\n",
       "      <th></th>\n",
       "      <th>Year</th>\n",
       "      <th>Tm</th>\n",
       "      <th>Lg</th>\n",
       "      <th>G</th>\n",
       "      <th>W</th>\n",
       "      <th>L</th>\n",
       "      <th>Ties</th>\n",
       "      <th>W.L.</th>\n",
       "      <th>Finish</th>\n",
       "      <th>GB</th>\n",
       "      <th>Playoffs</th>\n",
       "      <th>R</th>\n",
       "      <th>RA</th>\n",
       "      <th>Attendance</th>\n",
       "      <th>BatAge</th>\n",
       "      <th>PAge</th>\n",
       "      <th>X.Bat</th>\n",
       "      <th>X.P</th>\n",
       "      <th>Top.Player</th>\n",
       "      <th>Managers</th>\n",
       "    </tr>\n",
       "  </thead>\n",
       "  <tbody>\n",
       "    <tr>\n",
       "      <th>0</th>\n",
       "      <td>2016</td>\n",
       "      <td>Arizona Diamondbacks</td>\n",
       "      <td>NL West</td>\n",
       "      <td>162</td>\n",
       "      <td>69</td>\n",
       "      <td>93</td>\n",
       "      <td>0</td>\n",
       "      <td>0.426</td>\n",
       "      <td>4th of 5</td>\n",
       "      <td>22.0</td>\n",
       "      <td>NaN</td>\n",
       "      <td>752</td>\n",
       "      <td>890</td>\n",
       "      <td>2,036,216</td>\n",
       "      <td>26.7</td>\n",
       "      <td>26.4</td>\n",
       "      <td>50</td>\n",
       "      <td>29</td>\n",
       "      <td>J.Segura (5.7)</td>\n",
       "      <td>C.Hale (69-93)</td>\n",
       "    </tr>\n",
       "    <tr>\n",
       "      <th>1</th>\n",
       "      <td>2015</td>\n",
       "      <td>Arizona Diamondbacks</td>\n",
       "      <td>NL West</td>\n",
       "      <td>162</td>\n",
       "      <td>79</td>\n",
       "      <td>83</td>\n",
       "      <td>0</td>\n",
       "      <td>0.488</td>\n",
       "      <td>3rd of 5</td>\n",
       "      <td>13.0</td>\n",
       "      <td>NaN</td>\n",
       "      <td>720</td>\n",
       "      <td>713</td>\n",
       "      <td>2,080,145</td>\n",
       "      <td>26.6</td>\n",
       "      <td>27.1</td>\n",
       "      <td>50</td>\n",
       "      <td>27</td>\n",
       "      <td>P.Goldschmidt (8.8)</td>\n",
       "      <td>C.Hale (79-83)</td>\n",
       "    </tr>\n",
       "    <tr>\n",
       "      <th>2</th>\n",
       "      <td>2014</td>\n",
       "      <td>Arizona Diamondbacks</td>\n",
       "      <td>NL West</td>\n",
       "      <td>162</td>\n",
       "      <td>64</td>\n",
       "      <td>98</td>\n",
       "      <td>0</td>\n",
       "      <td>0.395</td>\n",
       "      <td>5th of 5</td>\n",
       "      <td>30.0</td>\n",
       "      <td>NaN</td>\n",
       "      <td>615</td>\n",
       "      <td>742</td>\n",
       "      <td>2,073,730</td>\n",
       "      <td>27.6</td>\n",
       "      <td>28.0</td>\n",
       "      <td>52</td>\n",
       "      <td>25</td>\n",
       "      <td>P.Goldschmidt (4.5)</td>\n",
       "      <td>K.Gibson (63-96) and A.Trammell (1-2)</td>\n",
       "    </tr>\n",
       "    <tr>\n",
       "      <th>3</th>\n",
       "      <td>2013</td>\n",
       "      <td>Arizona Diamondbacks</td>\n",
       "      <td>NL West</td>\n",
       "      <td>162</td>\n",
       "      <td>81</td>\n",
       "      <td>81</td>\n",
       "      <td>0</td>\n",
       "      <td>0.500</td>\n",
       "      <td>2nd of 5</td>\n",
       "      <td>11.0</td>\n",
       "      <td>NaN</td>\n",
       "      <td>685</td>\n",
       "      <td>695</td>\n",
       "      <td>2,134,895</td>\n",
       "      <td>28.1</td>\n",
       "      <td>27.6</td>\n",
       "      <td>44</td>\n",
       "      <td>23</td>\n",
       "      <td>P.Goldschmidt (7.1)</td>\n",
       "      <td>K.Gibson (81-81)</td>\n",
       "    </tr>\n",
       "    <tr>\n",
       "      <th>4</th>\n",
       "      <td>2012</td>\n",
       "      <td>Arizona Diamondbacks</td>\n",
       "      <td>NL West</td>\n",
       "      <td>162</td>\n",
       "      <td>81</td>\n",
       "      <td>81</td>\n",
       "      <td>0</td>\n",
       "      <td>0.500</td>\n",
       "      <td>3rd of 5</td>\n",
       "      <td>13.0</td>\n",
       "      <td>NaN</td>\n",
       "      <td>734</td>\n",
       "      <td>688</td>\n",
       "      <td>2,177,617</td>\n",
       "      <td>28.3</td>\n",
       "      <td>27.4</td>\n",
       "      <td>48</td>\n",
       "      <td>23</td>\n",
       "      <td>A.Hill (5.0)</td>\n",
       "      <td>K.Gibson (81-81)</td>\n",
       "    </tr>\n",
       "  </tbody>\n",
       "</table>\n",
       "</div>"
      ],
      "text/plain": [
       "   Year                    Tm       Lg    G   W   L  Ties   W.L.    Finish  \\\n",
       "0  2016  Arizona Diamondbacks  NL West  162  69  93     0  0.426  4th of 5   \n",
       "1  2015  Arizona Diamondbacks  NL West  162  79  83     0  0.488  3rd of 5   \n",
       "2  2014  Arizona Diamondbacks  NL West  162  64  98     0  0.395  5th of 5   \n",
       "3  2013  Arizona Diamondbacks  NL West  162  81  81     0  0.500  2nd of 5   \n",
       "4  2012  Arizona Diamondbacks  NL West  162  81  81     0  0.500  3rd of 5   \n",
       "\n",
       "     GB Playoffs    R   RA Attendance  BatAge  PAge  X.Bat  X.P  \\\n",
       "0  22.0      NaN  752  890  2,036,216    26.7  26.4     50   29   \n",
       "1  13.0      NaN  720  713  2,080,145    26.6  27.1     50   27   \n",
       "2  30.0      NaN  615  742  2,073,730    27.6  28.0     52   25   \n",
       "3  11.0      NaN  685  695  2,134,895    28.1  27.6     44   23   \n",
       "4  13.0      NaN  734  688  2,177,617    28.3  27.4     48   23   \n",
       "\n",
       "            Top.Player                               Managers  \n",
       "0       J.Segura (5.7)                         C.Hale (69-93)  \n",
       "1  P.Goldschmidt (8.8)                         C.Hale (79-83)  \n",
       "2  P.Goldschmidt (4.5)  K.Gibson (63-96) and A.Trammell (1-2)  \n",
       "3  P.Goldschmidt (7.1)                       K.Gibson (81-81)  \n",
       "4         A.Hill (5.0)                       K.Gibson (81-81)  "
      ]
     },
     "execution_count": 6,
     "metadata": {},
     "output_type": "execute_result"
    }
   ],
   "source": [
    "# drop the desired columns\n",
    "df = df.drop(columns=['Rk', 'current', 'Unnamed: 0', 'pythW.L.'])\n",
    "\n",
    "# test changes\n",
    "df.head()"
   ]
  },
  {
   "cell_type": "markdown",
   "id": "f9949666",
   "metadata": {},
   "source": [
    "`Attendance` is the only column that needs it's data type changed at the moment. I want to change it from `object` to `int`. Before I can do that I need to make sure this column does not contain any `NaN` values."
   ]
  },
  {
   "cell_type": "code",
   "execution_count": 7,
   "id": "cc1b6583",
   "metadata": {},
   "outputs": [
    {
     "data": {
      "text/plain": [
       "Year             0\n",
       "Tm               0\n",
       "Lg               0\n",
       "G                0\n",
       "W                0\n",
       "L                0\n",
       "Ties             0\n",
       "W.L.             0\n",
       "Finish           0\n",
       "GB               0\n",
       "Playoffs      2163\n",
       "R                0\n",
       "RA               0\n",
       "Attendance      74\n",
       "BatAge           0\n",
       "PAge             0\n",
       "X.Bat            0\n",
       "X.P              0\n",
       "Top.Player       0\n",
       "Managers         0\n",
       "dtype: int64"
      ]
     },
     "execution_count": 7,
     "metadata": {},
     "output_type": "execute_result"
    }
   ],
   "source": [
    "# check for columns that contain null values\n",
    "df.isnull().sum()"
   ]
  },
  {
   "cell_type": "markdown",
   "id": "71b59959",
   "metadata": {},
   "source": [
    "Since my `Attendance` row does have `NaN` values I will need to replace those with a `0` placeholder value in order to change the data type."
   ]
  },
  {
   "cell_type": "code",
   "execution_count": 8,
   "id": "c21a8f8d",
   "metadata": {},
   "outputs": [],
   "source": [
    "# replace null values with 0\n",
    "df['Attendance'] = df['Attendance'].fillna(0)"
   ]
  },
  {
   "cell_type": "code",
   "execution_count": 9,
   "id": "07f7c3dc",
   "metadata": {
    "scrolled": true
   },
   "outputs": [
    {
     "data": {
      "text/plain": [
       "Year             0\n",
       "Tm               0\n",
       "Lg               0\n",
       "G                0\n",
       "W                0\n",
       "L                0\n",
       "Ties             0\n",
       "W.L.             0\n",
       "Finish           0\n",
       "GB               0\n",
       "Playoffs      2163\n",
       "R                0\n",
       "RA               0\n",
       "Attendance       0\n",
       "BatAge           0\n",
       "PAge             0\n",
       "X.Bat            0\n",
       "X.P              0\n",
       "Top.Player       0\n",
       "Managers         0\n",
       "dtype: int64"
      ]
     },
     "execution_count": 9,
     "metadata": {},
     "output_type": "execute_result"
    }
   ],
   "source": [
    "# check again for null values\n",
    "df.isnull().sum()"
   ]
  },
  {
   "cell_type": "markdown",
   "id": "e2cff084",
   "metadata": {},
   "source": [
    "`Attendance` is now free of any null data. One more thing I need to do is remove the commas from the numbers. If I try to change the type to `int` or `float` before removing the commas I will receive an error. "
   ]
  },
  {
   "cell_type": "code",
   "execution_count": 10,
   "id": "b60e211f",
   "metadata": {},
   "outputs": [
    {
     "data": {
      "text/plain": [
       "0       2036216\n",
       "1       2080145\n",
       "2       2073730\n",
       "3       2134895\n",
       "4       2177617\n",
       "         ...   \n",
       "2589    1246863\n",
       "2590    1142145\n",
       "2591    1290963\n",
       "2592    1424683\n",
       "2593    1212608\n",
       "Name: Attendance, Length: 2594, dtype: object"
      ]
     },
     "execution_count": 10,
     "metadata": {},
     "output_type": "execute_result"
    }
   ],
   "source": [
    "# remove commas\n",
    "df['Attendance'] = df['Attendance'].str.replace(\"[,]\",\"\", regex=True)\n",
    "\n",
    "# verify commas have been removed\n",
    "df['Attendance']"
   ]
  },
  {
   "cell_type": "code",
   "execution_count": 11,
   "id": "fcd32c6a",
   "metadata": {
    "scrolled": true
   },
   "outputs": [
    {
     "data": {
      "text/plain": [
       "Int64Dtype()"
      ]
     },
     "execution_count": 11,
     "metadata": {},
     "output_type": "execute_result"
    }
   ],
   "source": [
    "# change data type\n",
    "df['Attendance'] = df['Attendance'].astype('Int64')\n",
    "\n",
    "# verify type change\n",
    "df['Attendance'].dtype"
   ]
  },
  {
   "cell_type": "markdown",
   "id": "d62606cb",
   "metadata": {},
   "source": [
    "I want to rename the columns to make them a bit easier to understand. "
   ]
  },
  {
   "cell_type": "code",
   "execution_count": 12,
   "id": "168d6c10",
   "metadata": {},
   "outputs": [
    {
     "data": {
      "text/plain": [
       "Index(['Year', 'Team', 'League', 'Games', 'Wins', 'Losses', 'Ties',\n",
       "       'WinPercentage', 'Finish', 'GamesBack', 'Playoffs', 'RunsScored',\n",
       "       'RunsAllowed', 'Attendance', 'BatAge', 'PitAge', 'NumBattersUsed',\n",
       "       'NumPitchersUsed', 'TopPlayer', 'Managers'],\n",
       "      dtype='object')"
      ]
     },
     "execution_count": 12,
     "metadata": {},
     "output_type": "execute_result"
    }
   ],
   "source": [
    "# create the list of columns to rename\n",
    "col_to_rename = {'Tm': 'Team', 'Lg': 'League','G': 'Games', 'W': 'Wins', 'L': 'Losses', 'W.L.': 'WinPercentage', \n",
    "                 'GB': 'GamesBack', 'R': 'RunsScored', 'RA': 'RunsAllowed', 'PAge': 'PitAge', 'X.Bat': 'NumBattersUsed', \n",
    "                 'X.P': 'NumPitchersUsed', 'Top.Player': 'TopPlayer'}\n",
    "\n",
    "# load in new names\n",
    "df = df.rename(columns=col_to_rename)\n",
    "\n",
    "# test new column names\n",
    "df.columns"
   ]
  },
  {
   "cell_type": "markdown",
   "id": "b2fd94e4",
   "metadata": {},
   "source": [
    "## Diving into the Yankees"
   ]
  },
  {
   "cell_type": "markdown",
   "id": "4db86bed",
   "metadata": {},
   "source": [
    "Since I only want to analyze data related to the Yankees I should create a new frame that includes only them"
   ]
  },
  {
   "cell_type": "code",
   "execution_count": 13,
   "id": "72bf2a07",
   "metadata": {
    "scrolled": true
   },
   "outputs": [
    {
     "data": {
      "text/html": [
       "<div>\n",
       "<style scoped>\n",
       "    .dataframe tbody tr th:only-of-type {\n",
       "        vertical-align: middle;\n",
       "    }\n",
       "\n",
       "    .dataframe tbody tr th {\n",
       "        vertical-align: top;\n",
       "    }\n",
       "\n",
       "    .dataframe thead th {\n",
       "        text-align: right;\n",
       "    }\n",
       "</style>\n",
       "<table border=\"1\" class=\"dataframe\">\n",
       "  <thead>\n",
       "    <tr style=\"text-align: right;\">\n",
       "      <th></th>\n",
       "      <th>Year</th>\n",
       "      <th>Team</th>\n",
       "      <th>League</th>\n",
       "      <th>Games</th>\n",
       "      <th>Wins</th>\n",
       "      <th>Losses</th>\n",
       "      <th>Ties</th>\n",
       "      <th>WinPercentage</th>\n",
       "      <th>Finish</th>\n",
       "      <th>GamesBack</th>\n",
       "      <th>Playoffs</th>\n",
       "      <th>RunsScored</th>\n",
       "      <th>RunsAllowed</th>\n",
       "      <th>Attendance</th>\n",
       "      <th>BatAge</th>\n",
       "      <th>PitAge</th>\n",
       "      <th>NumBattersUsed</th>\n",
       "      <th>NumPitchersUsed</th>\n",
       "      <th>TopPlayer</th>\n",
       "      <th>Managers</th>\n",
       "    </tr>\n",
       "  </thead>\n",
       "  <tbody>\n",
       "    <tr>\n",
       "      <th>0</th>\n",
       "      <td>2016</td>\n",
       "      <td>New York Yankees</td>\n",
       "      <td>AL East</td>\n",
       "      <td>162</td>\n",
       "      <td>84</td>\n",
       "      <td>78</td>\n",
       "      <td>0</td>\n",
       "      <td>0.519</td>\n",
       "      <td>4th of 5</td>\n",
       "      <td>9.0</td>\n",
       "      <td>NaN</td>\n",
       "      <td>680</td>\n",
       "      <td>702</td>\n",
       "      <td>3063405</td>\n",
       "      <td>30.0</td>\n",
       "      <td>27.9</td>\n",
       "      <td>42</td>\n",
       "      <td>29</td>\n",
       "      <td>M.Tanaka (5.4)</td>\n",
       "      <td>J.Girardi (84-78)</td>\n",
       "    </tr>\n",
       "    <tr>\n",
       "      <th>1</th>\n",
       "      <td>2015</td>\n",
       "      <td>New York Yankees</td>\n",
       "      <td>AL East</td>\n",
       "      <td>162</td>\n",
       "      <td>87</td>\n",
       "      <td>75</td>\n",
       "      <td>0</td>\n",
       "      <td>0.537</td>\n",
       "      <td>2nd of 5</td>\n",
       "      <td>6.0</td>\n",
       "      <td>Lost ALWC (1-0)</td>\n",
       "      <td>764</td>\n",
       "      <td>698</td>\n",
       "      <td>3193795</td>\n",
       "      <td>31.2</td>\n",
       "      <td>27.4</td>\n",
       "      <td>56</td>\n",
       "      <td>33</td>\n",
       "      <td>M.Teixeira (3.8)</td>\n",
       "      <td>J.Girardi (87-75)</td>\n",
       "    </tr>\n",
       "    <tr>\n",
       "      <th>2</th>\n",
       "      <td>2014</td>\n",
       "      <td>New York Yankees</td>\n",
       "      <td>AL East</td>\n",
       "      <td>162</td>\n",
       "      <td>84</td>\n",
       "      <td>78</td>\n",
       "      <td>0</td>\n",
       "      <td>0.519</td>\n",
       "      <td>2nd of 5</td>\n",
       "      <td>12.0</td>\n",
       "      <td>NaN</td>\n",
       "      <td>633</td>\n",
       "      <td>664</td>\n",
       "      <td>3401624</td>\n",
       "      <td>32.5</td>\n",
       "      <td>29.3</td>\n",
       "      <td>58</td>\n",
       "      <td>33</td>\n",
       "      <td>B.Gardner (4.0)</td>\n",
       "      <td>J.Girardi (84-78)</td>\n",
       "    </tr>\n",
       "    <tr>\n",
       "      <th>3</th>\n",
       "      <td>2013</td>\n",
       "      <td>New York Yankees</td>\n",
       "      <td>AL East</td>\n",
       "      <td>162</td>\n",
       "      <td>85</td>\n",
       "      <td>77</td>\n",
       "      <td>0</td>\n",
       "      <td>0.525</td>\n",
       "      <td>3rd of 5</td>\n",
       "      <td>12.0</td>\n",
       "      <td>NaN</td>\n",
       "      <td>650</td>\n",
       "      <td>671</td>\n",
       "      <td>3279589</td>\n",
       "      <td>31.8</td>\n",
       "      <td>31.8</td>\n",
       "      <td>56</td>\n",
       "      <td>24</td>\n",
       "      <td>R.Cano (7.8)</td>\n",
       "      <td>J.Girardi (85-77)</td>\n",
       "    </tr>\n",
       "    <tr>\n",
       "      <th>4</th>\n",
       "      <td>2012</td>\n",
       "      <td>New York Yankees</td>\n",
       "      <td>AL East</td>\n",
       "      <td>162</td>\n",
       "      <td>95</td>\n",
       "      <td>67</td>\n",
       "      <td>0</td>\n",
       "      <td>0.586</td>\n",
       "      <td>1st of 5</td>\n",
       "      <td>--</td>\n",
       "      <td>Lost ALCS (4-0)</td>\n",
       "      <td>804</td>\n",
       "      <td>668</td>\n",
       "      <td>3542406</td>\n",
       "      <td>32.7</td>\n",
       "      <td>30.3</td>\n",
       "      <td>45</td>\n",
       "      <td>23</td>\n",
       "      <td>R.Cano (8.4)</td>\n",
       "      <td>J.Girardi (95-67)</td>\n",
       "    </tr>\n",
       "  </tbody>\n",
       "</table>\n",
       "</div>"
      ],
      "text/plain": [
       "   Year              Team   League  Games  Wins  Losses  Ties  WinPercentage  \\\n",
       "0  2016  New York Yankees  AL East    162    84      78     0          0.519   \n",
       "1  2015  New York Yankees  AL East    162    87      75     0          0.537   \n",
       "2  2014  New York Yankees  AL East    162    84      78     0          0.519   \n",
       "3  2013  New York Yankees  AL East    162    85      77     0          0.525   \n",
       "4  2012  New York Yankees  AL East    162    95      67     0          0.586   \n",
       "\n",
       "     Finish GamesBack         Playoffs  RunsScored  RunsAllowed  Attendance  \\\n",
       "0  4th of 5       9.0              NaN         680          702     3063405   \n",
       "1  2nd of 5       6.0  Lost ALWC (1-0)         764          698     3193795   \n",
       "2  2nd of 5      12.0              NaN         633          664     3401624   \n",
       "3  3rd of 5      12.0              NaN         650          671     3279589   \n",
       "4  1st of 5        --  Lost ALCS (4-0)         804          668     3542406   \n",
       "\n",
       "   BatAge  PitAge  NumBattersUsed  NumPitchersUsed         TopPlayer  \\\n",
       "0    30.0    27.9              42               29    M.Tanaka (5.4)   \n",
       "1    31.2    27.4              56               33  M.Teixeira (3.8)   \n",
       "2    32.5    29.3              58               33   B.Gardner (4.0)   \n",
       "3    31.8    31.8              56               24      R.Cano (7.8)   \n",
       "4    32.7    30.3              45               23      R.Cano (8.4)   \n",
       "\n",
       "            Managers  \n",
       "0  J.Girardi (84-78)  \n",
       "1  J.Girardi (87-75)  \n",
       "2  J.Girardi (84-78)  \n",
       "3  J.Girardi (85-77)  \n",
       "4  J.Girardi (95-67)  "
      ]
     },
     "execution_count": 13,
     "metadata": {},
     "output_type": "execute_result"
    }
   ],
   "source": [
    "# create a new data frame that takes data for only the Yankees \n",
    "yankees = df.loc[df.Team == 'New York Yankees'].reset_index(drop=True)\n",
    "yankees.head()"
   ]
  },
  {
   "cell_type": "code",
   "execution_count": 14,
   "id": "0240b08f",
   "metadata": {},
   "outputs": [
    {
     "name": "stdout",
     "output_type": "stream",
     "text": [
      "<class 'pandas.core.frame.DataFrame'>\n",
      "RangeIndex: 104 entries, 0 to 103\n",
      "Data columns (total 20 columns):\n",
      " #   Column           Non-Null Count  Dtype  \n",
      "---  ------           --------------  -----  \n",
      " 0   Year             104 non-null    int64  \n",
      " 1   Team             104 non-null    object \n",
      " 2   League           104 non-null    object \n",
      " 3   Games            104 non-null    int64  \n",
      " 4   Wins             104 non-null    int64  \n",
      " 5   Losses           104 non-null    int64  \n",
      " 6   Ties             104 non-null    int64  \n",
      " 7   WinPercentage    104 non-null    float64\n",
      " 8   Finish           104 non-null    object \n",
      " 9   GamesBack        104 non-null    object \n",
      " 10  Playoffs         52 non-null     object \n",
      " 11  RunsScored       104 non-null    int64  \n",
      " 12  RunsAllowed      104 non-null    int64  \n",
      " 13  Attendance       104 non-null    Int64  \n",
      " 14  BatAge           104 non-null    float64\n",
      " 15  PitAge           104 non-null    float64\n",
      " 16  NumBattersUsed   104 non-null    int64  \n",
      " 17  NumPitchersUsed  104 non-null    int64  \n",
      " 18  TopPlayer        104 non-null    object \n",
      " 19  Managers         104 non-null    object \n",
      "dtypes: Int64(1), float64(3), int64(9), object(7)\n",
      "memory usage: 16.5+ KB\n"
     ]
    }
   ],
   "source": [
    "# familiarize myself with the data\n",
    "yankees.info()"
   ]
  },
  {
   "cell_type": "markdown",
   "id": "44c0d14c",
   "metadata": {},
   "source": [
    "I want to change the `Finish` column from an `object` to a `category`. Doing so will allow me to make a logical order of finishes at the end of each season for analysis later on."
   ]
  },
  {
   "cell_type": "code",
   "execution_count": 15,
   "id": "2fbec629",
   "metadata": {},
   "outputs": [],
   "source": [
    "# change data type\n",
    "#yankees.Finish = yankees.Finish.astype('category')"
   ]
  },
  {
   "cell_type": "code",
   "execution_count": 17,
   "id": "f0d311d1",
   "metadata": {},
   "outputs": [
    {
     "data": {
      "text/plain": [
       "array(['4th of 5', '2nd of 5', '3rd of 5', '1st of 5', '2nd of 7',\n",
       "       '4th of 7', '5th of 7', '7th of 7', '3rd of 7', '1st of 7',\n",
       "       '1st of 6', '3rd of 6', '2nd of 6', '4th of 6', '5th of 6',\n",
       "       '5th of 10', '9th of 10', '10th of 10', '6th of 10', '1st of 10',\n",
       "       '1st of 8', '3rd of 8', '2nd of 8', '4th of 8', '7th of 8',\n",
       "       '6th of 8', '5th of 8'], dtype=object)"
      ]
     },
     "execution_count": 17,
     "metadata": {},
     "output_type": "execute_result"
    }
   ],
   "source": [
    "yankees.Finish.unique()"
   ]
  },
  {
   "cell_type": "code",
   "execution_count": null,
   "id": "949c11fd",
   "metadata": {},
   "outputs": [],
   "source": []
  }
 ],
 "metadata": {
  "kernelspec": {
   "display_name": "Python 3 (ipykernel)",
   "language": "python",
   "name": "python3"
  },
  "language_info": {
   "codemirror_mode": {
    "name": "ipython",
    "version": 3
   },
   "file_extension": ".py",
   "mimetype": "text/x-python",
   "name": "python",
   "nbconvert_exporter": "python",
   "pygments_lexer": "ipython3",
   "version": "3.9.12"
  }
 },
 "nbformat": 4,
 "nbformat_minor": 5
}
